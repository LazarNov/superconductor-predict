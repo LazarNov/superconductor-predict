{
 "cells": [
  {
   "attachments": {},
   "cell_type": "markdown",
   "metadata": {},
   "source": [
    "First install r packages CHNOSZ and xgboost if necessary."
   ]
  },
  {
   "cell_type": "code",
   "execution_count": null,
   "metadata": {},
   "outputs": [],
   "source": [
    "import rpy2.robjects\n",
    "from rpy2.robjects import packages\n",
    "utils = packages.importr('utils')\n",
    "base =  packages.importr('base')\n",
    "\n",
    "utils.install_packages(\"CHNOSZ\")\n",
    "utils.install_packages(\"xgboost\")"
   ]
  },
  {
   "attachments": {},
   "cell_type": "markdown",
   "metadata": {},
   "source": [
    "Load the model."
   ]
  },
  {
   "cell_type": "code",
   "execution_count": 3,
   "metadata": {},
   "outputs": [],
   "source": [
    "from slpred import slpred\n",
    "\n",
    "ms=slpred.FourierSt(pr=True)\n",
    "modelms=ms.samplemodels(modeltype='predictivesavepr',typea='original')"
   ]
  },
  {
   "attachments": {},
   "cell_type": "markdown",
   "metadata": {},
   "source": [
    "List the structures and predict $T_c$."
   ]
  },
  {
   "cell_type": "code",
   "execution_count": 5,
   "metadata": {},
   "outputs": [
    {
     "name": "stderr",
     "output_type": "stream",
     "text": [
      "100%|██████████| 1/1 [00:00<00:00, 21.03it/s]\n",
      "100%|██████████| 1/1 [00:00<00:00, 580.13it/s]"
     ]
    },
    {
     "name": "stdout",
     "output_type": "stream",
     "text": [
      "(1, 13, 13, 13, 2) (1, 175)\n",
      "1/1 [==============================] - 0s 21ms/step\n",
      "H7CS structure: 1 Tc:[173.69496]\n"
     ]
    },
    {
     "name": "stderr",
     "output_type": "stream",
     "text": [
      "\n"
     ]
    },
    {
     "data": {
      "text/plain": [
       "array([[173.69496]], dtype=float32)"
      ]
     },
     "execution_count": 5,
     "metadata": {},
     "output_type": "execute_result"
    }
   ],
   "source": [
    "structs=[\"slpred/slpred/C1S1H7.cif\"]\n",
    "ms.predict_structure(modelms,structs)"
   ]
  }
 ],
 "metadata": {
  "kernelspec": {
   "display_name": "rebound",
   "language": "python",
   "name": "rebound"
  },
  "language_info": {
   "codemirror_mode": {
    "name": "ipython",
    "version": 3
   },
   "file_extension": ".py",
   "mimetype": "text/x-python",
   "name": "python",
   "nbconvert_exporter": "python",
   "pygments_lexer": "ipython3",
   "version": "3.8.2"
  },
  "orig_nbformat": 4
 },
 "nbformat": 4,
 "nbformat_minor": 2
}
